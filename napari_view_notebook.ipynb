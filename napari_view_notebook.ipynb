{
 "cells": [
  {
   "cell_type": "code",
   "execution_count": null,
   "metadata": {},
   "outputs": [],
   "source": [
    "import numpy as np\n",
    "import napari\n",
    "\n",
    "import zarr\n",
    "\n",
    "container = zarr.open(\"test_data.zarr\")\n",
    "raw = container[\"raw\"]\n",
    "out_container = zarr.open(\"full_pred_3d_ld.zarr\")"
   ]
  },
  {
   "cell_type": "code",
   "execution_count": null,
   "metadata": {},
   "outputs": [],
   "source": [
    "print(' '.join(out_container.array_keys()))\n",
    "lsds = out_container[\"lsds\"]"
   ]
  },
  {
   "cell_type": "code",
   "execution_count": null,
   "metadata": {},
   "outputs": [],
   "source": [
    "# Start a napari viewer\n",
    "viewer = napari.Viewer()"
   ]
  },
  {
   "cell_type": "code",
   "execution_count": null,
   "metadata": {},
   "outputs": [],
   "source": [
    "raw = raw[:, 3000:5000, 3000:5000]\n",
    "# affs = affs[:, :, 3000:5000, 3000:5000]\n",
    "lsds = lsds[:, :, 3000:5000, 3000:5000]\n",
    "#frags = frags[:, 3000:5000, 3000:5000]"
   ]
  },
  {
   "cell_type": "code",
   "execution_count": null,
   "metadata": {},
   "outputs": [],
   "source": [
    "# Add the 3D array to the viewer as an image layer\n",
    "#viewer.add_image(raw, name='Raw')\n",
    "# viewer.add_image(affs, name='affs')\n",
    "# viewer.add_image(lsds, name='lsds')\n",
    "viewer.add_image(lsds, name='lsds', colormap='magma', scale=[1,10,1,1], interpolation3d='bicubic')"
   ]
  },
  {
   "cell_type": "code",
   "execution_count": null,
   "metadata": {},
   "outputs": [],
   "source": [
    "viewer.dims.ndisplay = 3"
   ]
  },
  {
   "cell_type": "code",
   "execution_count": null,
   "metadata": {},
   "outputs": [],
   "source": [
    "from napari_animation import Animation\n",
    "\n",
    "animation = Animation(viewer)\n",
    "viewer.camera.angles = (0.0, 0.0, 90.0)\n",
    "animation.capture_keyframe()\n",
    "viewer.camera.zoom = 0.5\n",
    "animation.capture_keyframe()\n",
    "viewer.camera.angles = (-7.0, 15.7, 62.4)\n",
    "animation.capture_keyframe(steps=60)\n",
    "viewer.camera.angles = (2.0, -24.4, -36.7)\n",
    "animation.capture_keyframe(steps=60)\n",
    "viewer.reset_view()\n",
    "viewer.camera.angles = (0.0, 0.0, 90.0)\n",
    "animation.capture_keyframe()\n",
    "animation.animate('demo-headless.mov', canvas_only=True)"
   ]
  }
 ],
 "metadata": {
  "kernelspec": {
   "display_name": "pokemon",
   "language": "python",
   "name": "python3"
  },
  "language_info": {
   "codemirror_mode": {
    "name": "ipython",
    "version": 3
   },
   "file_extension": ".py",
   "mimetype": "text/x-python",
   "name": "python",
   "nbconvert_exporter": "python",
   "pygments_lexer": "ipython3",
   "version": "3.12.3"
  },
  "orig_nbformat": 4
 },
 "nbformat": 4,
 "nbformat_minor": 2
}
